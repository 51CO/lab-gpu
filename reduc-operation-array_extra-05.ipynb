{
 "cells": [
  {
   "cell_type": "markdown",
   "id": "dc5d9343-d666-4331-b0c8-5f3511e8ae68",
   "metadata": {},
   "source": [
    "# Ejercicio Extra GPU. Alumno05. "
   ]
  },
  {
   "cell_type": "code",
   "execution_count": 11,
   "id": "400d1b6c-71d5-4a1e-a6f6-30e633cc7c8d",
   "metadata": {},
   "outputs": [
    {
     "name": "stdout",
     "output_type": "stream",
     "text": [
      "Tiempo que tarda la función reduc_operation con un array numpy de 5000000 valores: 494 ms ± 2.68 ms per loop (mean ± std. dev. of 2 runs, 1 loop each)\n",
      "Resultado: 2501656.4808689193\n",
      "\n",
      "Time taken by reduction operation using numpy.sum(): 1.83 ms ± 3.14 µs per loop (mean ± std. dev. of 2 runs, 1,000 loops each)\n",
      "Now, the result using numpy.sum(): 2501656.480869037 \n",
      " \n",
      "Time taken by reduction operation using numpy.ndarray.sum(): 1.82 ms ± 1.82 µs per loop (mean ± std. dev. of 2 runs, 1,000 loops each)\n",
      "Now, the result using numpy.ndarray.sum(): 2501656.480869037\n"
     ]
    }
   ],
   "source": [
    "import numpy as np\n",
    "\n",
    "def reduc_operation(A):\n",
    "    \"\"\"Compute the sum of the elements of Array A in the range [0, value).\"\"\"\n",
    "    s = 0\n",
    "    for i in range(A.size):\n",
    "        s += A[i]\n",
    "    return s\n",
    "\n",
    "#value = int(sys.argv[1])\n",
    "value = 5*10**6\n",
    "\n",
    "X = np.random.rand(value)\n",
    "\n",
    "\n",
    "# Utilizando las operaciones mágicas de ipython\n",
    "\n",
    "tiempo = %timeit -r 2 -o -q reduc_operation(X)\n",
    "\n",
    "print(f\"Tiempo que tarda la función reduc_operation con un array numpy de {value} valores:\", tiempo)\n",
    "print(f\"Resultado: {reduc_operation(X)}\\n\")\n",
    "\n",
    "\n",
    "# Utilizando numpy.sum()\n",
    "\n",
    "tiempo = %timeit -r 2 -o -q np.sum(X)\n",
    "\n",
    "print(\"Time taken by reduction operation using numpy.sum():\", tiempo)\n",
    "print(\"Now, the result using numpy.sum():\", np.sum(X),\"\\n \")\n",
    "\n",
    "\n",
    "# Utilizando numpy.ndarray.sum()\n",
    "\n",
    "tiempo= %timeit -r 2 -o -q X.sum()\n",
    "\n",
    "print(\"Time taken by reduction operation using numpy.ndarray.sum():\", tiempo)\n",
    "print(\"Now, the result using numpy.ndarray.sum():\", X.sum())\n"
   ]
  },
  {
   "cell_type": "markdown",
   "id": "081e7cc9-e8f2-48d3-8525-21caf497f800",
   "metadata": {},
   "source": [
    "#### 1. Multiprocessing con más de un parámetro: starmap. "
   ]
  },
  {
   "cell_type": "code",
   "execution_count": 10,
   "id": "24df4f21-d48d-43d0-870d-705ae8c93b85",
   "metadata": {},
   "outputs": [
    {
     "name": "stdout",
     "output_type": "stream",
     "text": [
      "Tiempo con un proceso: 0.6049990653991699. Resultado: 2500260.1136280205\n",
      "Tiempo con dos procesos: 0.36820006370544434. Resultado: 2500260.1136276154\n",
      "Tiempo con cuatro procesos: 0.33579468727111816. Resultado: 2500260.1136276103\n"
     ]
    }
   ],
   "source": [
    "import numpy as np\n",
    "from multiprocessing import Pool\n",
    "import time\n",
    "\n",
    "# Modificar la función para recibir el rango de inicio y fin\n",
    "def sum_multiprocessing(A, ini, fin):\n",
    "    \"\"\"Compute the sum of the elements of Array A in the range [ini, fin).\"\"\"\n",
    "    s = 0\n",
    "    for i in range(ini, fin):\n",
    "        s += A[i]\n",
    "    return s\n",
    "\n",
    "# Crear el array de prueba\n",
    "value = 5 * 10**6\n",
    "X = np.random.rand(value)\n",
    "\n",
    "# Crear una función para dividir la suma en procesos\n",
    "def suma_starmap(array, ranges):\n",
    "    \"\"\"Divide la operación de suma en procesos y combina los resultados.\"\"\"\n",
    "    with Pool() as pool:\n",
    "        resultados_parciales = pool.starmap(sum_multiprocessing, [(array, start, end) for start, end in ranges])\n",
    "    return sum(resultados_parciales)\n",
    "\n",
    "# Suma con un solo proceso\n",
    "ranges_1 = [(0, value)]\n",
    "\n",
    "inicio=time.time()\n",
    "result_1 = suma_starmap(X, ranges_1)\n",
    "fin=time.time()\n",
    "print(f\"Tiempo con un proceso: {fin-inicio} segundos. Resultado: {result_1}\")\n",
    "\n",
    "# Suma con dos procesos\n",
    "ranges_2 = [(0, value // 2), (value // 2, value)]\n",
    "\n",
    "inicio=time.time()\n",
    "result_2 = suma_starmap(X, ranges_2)\n",
    "fin=time.time()\n",
    "print(f\"Tiempo con dos procesos: {fin-inicio} segundos. Resultado: {result_2}\")\n",
    "\n",
    "# Suma con cuatro procesos\n",
    "ranges_4 = [\n",
    "    (0, value // 4),\n",
    "    (value // 4, value // 2),\n",
    "    (value // 2, 3 * value // 4),\n",
    "    (3 * value // 4, value),\n",
    "]\n",
    "\n",
    "inicio=time.time()\n",
    "result_4 = suma_starmap(X, ranges_4)\n",
    "fin=time.time()\n",
    "print(f\"Tiempo con cuatro procesos: {fin-inicio} segundos. Resultado: {result_4}\")\n"
   ]
  },
  {
   "cell_type": "markdown",
   "id": "0b01c74a-ca05-4b71-a938-e37ea838932b",
   "metadata": {},
   "source": [
    "Usando starmap para hacer la misma segmentación que realizamos en el apartado 3.2, vemos los mismos resultados: conforme segmentamos el array para procesar el cálculo en hilos paralelos, se acelera el programa. "
   ]
  },
  {
   "cell_type": "markdown",
   "id": "34f259ad-d5e1-4032-a035-b6b451e1cfeb",
   "metadata": {},
   "source": [
    "#### 2. Usando CuPy de forma alternativa al ejercicio 3.3.\n",
    "En mi ejercicio 3.3 ya he utilizado CuPy cargando en la GPU el array previamente creado, como se pide en este enunciado. Por tanto, complementaré haciendo lo opuesto: repitiendo el proceso creando un array cupy desde 0. "
   ]
  },
  {
   "cell_type": "code",
   "execution_count": 13,
   "id": "bb57e6d4-cce3-4d67-893d-4712eeffb7c4",
   "metadata": {},
   "outputs": [
    {
     "name": "stdout",
     "output_type": "stream",
     "text": [
      "Tiempo usando cupy.sum(): 72.69906997680664 ms\n",
      "Resultado usando cupy.sum(): 2500014.9130936987 \n",
      " \n",
      "Tiempo usando cupy.ndarray.sum() sobre el array X alojado en GPU: 0.25272369384765625 ms\n",
      "Resultado: 2500014.9130936987\n"
     ]
    }
   ],
   "source": [
    "# Movilizo el array numpy \"X\" a la GPU como un array CuPy\n",
    "import cupy as cp\n",
    "\n",
    "# array cupy creado desde 0. \n",
    "Y = cp.random.rand(value)\n",
    "\n",
    "# Al usar la GPU, no se puede medir el tiempo con las funciones mágicas de ipython. Se debe usar la librería time, y sincronizar. \n",
    "\n",
    "# Utilizando cupy.sum()\n",
    "cp.cuda.Stream.null.synchronize()\n",
    "inicio = time.time()\n",
    "resultado= cp.sum(Y)\n",
    "cp.cuda.Stream.null.synchronize()\n",
    "fin = time.time()\n",
    "\n",
    "print(\"Tiempo usando cupy.sum():\", (fin-inicio)*1000, \"ms\")\n",
    "print(\"Resultado usando cupy.sum():\",resultado,\"\\n \")\n",
    "\n",
    "\n",
    "# Utilizando cupy.ndarray.sum()\n",
    "cp.cuda.Stream.null.synchronize()\n",
    "inicio = time.time()\n",
    "resultado= Y.sum()\n",
    "cp.cuda.Stream.null.synchronize()\n",
    "fin = time.time()\n",
    "\n",
    "print(\"Tiempo usando cupy.ndarray.sum() sobre el array X alojado en GPU:\", (fin-inicio)*1000, \"ms\")\n",
    "print(\"Resultado:\", resultado)\n"
   ]
  }
 ],
 "metadata": {
  "kernelspec": {
   "display_name": "Python 3 (ipykernel)",
   "language": "python",
   "name": "python3"
  },
  "language_info": {
   "codemirror_mode": {
    "name": "ipython",
    "version": 3
   },
   "file_extension": ".py",
   "mimetype": "text/x-python",
   "name": "python",
   "nbconvert_exporter": "python",
   "pygments_lexer": "ipython3",
   "version": "3.8.17"
  }
 },
 "nbformat": 4,
 "nbformat_minor": 5
}
