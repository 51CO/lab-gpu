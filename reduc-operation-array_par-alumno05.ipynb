{
 "cells": [
  {
   "cell_type": "markdown",
   "metadata": {},
   "source": [
    "## Reduction operation: the sum of the numbers in the range [0, value)"
   ]
  },
  {
   "cell_type": "code",
   "execution_count": 13,
   "metadata": {},
   "outputs": [
    {
     "name": "stdout",
     "output_type": "stream",
     "text": [
      "Secuencial (programa base), con 50000 valores. : \n",
      "\n",
      "Tiempo usando numpy.sum(): 69.8 ms ± 801 µs per loop (mean ± std. dev. of 2 runs, 10 loops each)\n",
      "Resultado usando numpy.sum(): 24999299.6682682 \n",
      " \n",
      "Tiempo usando numpy.ndarray.sum(): 68.7 ms ± 12.9 µs per loop (mean ± std. dev. of 2 runs, 10 loops each)\n",
      "Resultado usando numpy.ndarray.sum(): 24999299.6682682\n"
     ]
    }
   ],
   "source": [
    "import numpy as np\n",
    "import multiprocessing as mp\n",
    "import time \n",
    "import sys\n",
    "\n",
    "def reduc_operation(A):\n",
    "    \"\"\"Compute the sum of the elements of Array A in the range [0, value).\"\"\"\n",
    "    s = 0\n",
    "    for i in range(A.size):\n",
    "        s += A[i]\n",
    "    return s\n",
    "\n",
    "\n",
    "# Secuencial\n",
    "print (\"Secuencial (programa base), con {50000} valores. : \\n\")\n",
    "\n",
    "value = int(sys.argv[1])\n",
    "#value = 5*10**7\n",
    "X = np.random.rand(value)\n",
    "\n",
    "# Utilizando bucle for. \n",
    "tiempo = %timeit -r 2 -o -q reduc_operation(np.random.rand(5*10**4))\n",
    "print(\"Tiempo:\", tiempo)\n",
    "print(f\"Resultado de la suma en rango [0, {value}]: {reduc_operation(X)}\\n\")\n",
    "\n",
    "print (f\"Secuencial usando funciones universales con {value} valores. : \\n\")\n",
    "\n",
    "# Utilizando numpy.sum()\n",
    "tiempo = %timeit -r 2 -o -q np.sum(X)\n",
    "print(\"Tiempo usando numpy.sum():\", tiempo)\n",
    "print(\"Resultado usando numpy.sum():\", np.sum(X),\"\\n \")\n",
    "\n",
    "# Utilizando numpy.ndarray.sum()\n",
    "tiempo= %timeit -r 2 -o -q X.sum()\n",
    "print(\"Tiempo usando numpy.ndarray.sum():\", tiempo)\n",
    "print(\"Resultado usando numpy.ndarray.sum():\", X.sum())\n"
   ]
  },
  {
   "cell_type": "markdown",
   "metadata": {},
   "source": [
    "##### a) En paralelo usando \"map\" de Multiprocessing:"
   ]
  },
  {
   "cell_type": "code",
   "execution_count": 2,
   "metadata": {},
   "outputs": [
    {
     "name": "stdout",
     "output_type": "stream",
     "text": [
      "Resultados para un array de tamaño 50000000 dividido en 1 partes:\n",
      "Resultado: 25001185.0508762\n",
      "Tiempo: 85.90163922309875 segundos\n",
      "\n",
      "Resultados para un array de tamaño 50000000 dividido en 2 partes:\n",
      "Resultado: 25001185.050885387\n",
      "Tiempo: 45.72059679031372 segundos\n",
      "\n",
      "Resultados para un array de tamaño 50000000 dividido en 4 partes:\n",
      "Resultado: 25001185.050884742\n",
      "Tiempo: 23.355814933776855 segundos\n",
      "\n"
     ]
    }
   ],
   "source": [
    "\n",
    "\n",
    "def reduc_operation(A):\n",
    "    \"\"\"Compute the sum of the elements of Array A.\"\"\"\n",
    "    s = 0\n",
    "    for i in range(A.size):\n",
    "        s += A[i]\n",
    "    return s\n",
    "\n",
    "\n",
    "X = np.random.rand(value) #El argumento iterable de la función MAP, al que se aplicará la función reduc_operation(X)\n",
    "\n",
    "print (f\"En paralelo usando map y Pool de multiprocessing, con {value} valores\")\n",
    "\n",
    "\n",
    "\n",
    "def parallel_sum(array, num_parts):\n",
    "    \"\"\"Introduce el array a dividir, y el número de partes en las que fraccionarlo.\"\"\"\n",
    "    sub_arrays = np.array_split(array, num_parts)\n",
    "    \n",
    "    return sub_arrays\n",
    "\n",
    "num_partes=[1,2,4]\n",
    "for num_part in num_partes: #servirá para iterar sobre las partes pedidas por el enunciado del ejercicio. \n",
    "    \n",
    "    # Fraccionamiento del array original\n",
    "    sub_arrays = np.array_split(X, num_part)\n",
    "\n",
    "    tiempo_inicial=time.time()\n",
    "    \n",
    "    # Defino la pool y el proceso que deseo paralelizar, almacenando los resultados parciales para sumarlos posteriormente.\n",
    "    with mp.Pool(processes=num_part) as pool:\n",
    "        suma_parcial = pool.map(reduc_operation, sub_arrays)\n",
    "        suma_total=sum(suma_parcial)\n",
    "\n",
    "    tiempo_final=time.time()\n",
    "    \n",
    "    print (f\"Resultados para un array de tamaño {X.size} dividido en {num_part} partes:\")\n",
    "    print(f\"Resultado: {suma_total}\") \n",
    "    print(f\"Tiempo: {tiempo_final - tiempo_inicial:} segundos\\n\")\n",
    "\n"
   ]
  },
  {
   "cell_type": "markdown",
   "metadata": {},
   "source": [
    "##### b) Usando Numba"
   ]
  },
  {
   "cell_type": "code",
   "execution_count": 14,
   "metadata": {},
   "outputs": [
    {
     "name": "stdout",
     "output_type": "stream",
     "text": [
      "En paralelo usando @njit de numba con 50000000 valores:\n",
      "\n",
      "Tiempo: 203 ms ± 1.86 µs per loop (mean ± std. dev. of 2 runs, 1 loop each)\n",
      "Resultado de la suma en rango [0, 50000000]: 25000926.615494207\n",
      "\n",
      "En paralelo usando @njit(parallel=True) y prange de numba con 50000000 valores:\n",
      "\n",
      "Tiempo: 10.6 ms ± 221 µs per loop (mean ± std. dev. of 2 runs, 100 loops each)\n",
      "Resultado de la suma en rango [0, 50000000]: 24994847.090746764\n",
      "\n"
     ]
    }
   ],
   "source": [
    "from numba import njit, prange\n",
    "\n",
    "@njit\n",
    "def reduc_operation(A):\n",
    "    \"\"\"Compute the sum of the elements of Array A in the range [0, value).\"\"\"\n",
    "    s = 0\n",
    "    for i in range(A.size):\n",
    "        s += A[i]\n",
    "    return s\n",
    "\n",
    "\n",
    "X = np.random.rand(value)\n",
    "\n",
    "print (f\"En paralelo usando @njit de numba con {value} valores:\\n\")\n",
    "\n",
    "\n",
    "tiempo = %timeit -r 2 -o -q reduc_operation(X) #Una primera ejecución para la compilación inicial\n",
    "\n",
    "# Utilizando bucle for. \n",
    "tiempo = %timeit -r 2 -o -q reduc_operation(X)\n",
    "print(\"Tiempo:\", tiempo)\n",
    "print(f\"Resultado de la suma en rango [0, {value}]: {reduc_operation(X)}\\n\")\n",
    "\n",
    "\n",
    "\n",
    "@njit(parallel=True)\n",
    "def reduc_operation(A):\n",
    "    \"\"\"Compute the sum of the elements of Array A in the range [0, value).\"\"\"\n",
    "    s = 0\n",
    "    for i in prange(A.size):\n",
    "        s += A[i]\n",
    "    return s\n",
    "\n",
    "value = 5*10**7\n",
    "X = np.random.rand(value)\n",
    "\n",
    "print (f\"En paralelo usando @njit(parallel=True) y prange de numba con {value} valores:\\n\")\n",
    "\n",
    "tiempo = %timeit -r 2 -o -q reduc_operation(X) #Una primera ejecución para la compilación inicial\n",
    "\n",
    "# Utilizando bucle for. \n",
    "tiempo = %timeit -r 2 -o -q reduc_operation(X)\n",
    "print(\"Tiempo:\", tiempo)\n",
    "print(f\"Resultado de la suma en rango [0, {value}]: {reduc_operation(X)}\\n\")\n"
   ]
  },
  {
   "cell_type": "markdown",
   "metadata": {},
   "source": [
    "Al usar map y Pool de la librería Multiprocessing, se aprecia claramente cómo al duplicar el número de hilos paralelos para a \n",
    "\n",
    "La aceleración que proporciona numba sobre la función \"reduc_operation\" es considerable: reduce los tiempos de ejecución del orden de las decenas de segundo hasta centenas de milisegundo usando @njit. Por otro lado, especificar @njit(parallel=True) aplicando \"prange\" en la función se acelera hasta los 10ms, llegando a superar en velocidad a las funciones universales de suma utilizadas (de en torno a 70ms)."
   ]
  },
  {
   "cell_type": "code",
   "execution_count": null,
   "metadata": {},
   "outputs": [],
   "source": []
  }
 ],
 "metadata": {
  "kernelspec": {
   "display_name": "Python 3",
   "language": "python",
   "name": "python3"
  },
  "language_info": {
   "codemirror_mode": {
    "name": "ipython",
    "version": 3
   },
   "file_extension": ".py",
   "mimetype": "text/x-python",
   "name": "python",
   "nbconvert_exporter": "python",
   "pygments_lexer": "ipython3",
   "version": "3.8.5"
  }
 },
 "nbformat": 4,
 "nbformat_minor": 5
}
